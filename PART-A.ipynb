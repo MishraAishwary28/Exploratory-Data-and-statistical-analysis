{
 "cells": [
  {
   "cell_type": "markdown",
   "metadata": {
    "id": "bULtd0HhaKm-"
   },
   "source": [
    "# **EDA and Statistical Analysis of FIFA Case Study**"
   ]
  },
  {
   "cell_type": "markdown",
   "metadata": {
    "id": "OwR_hAy0vEtb"
   },
   "source": [
    "**Overview**\n",
    "\n",
    "This Statistics and EDA project is designed to train and test you on basic Data Exploratory and Statistical \n",
    "techniques used in the industry today. Apart from bringing you to speed with basic descriptive and \n",
    "inferential methods, you will also deep dive into a dataset and perform thorough cleaning and analysis in order to draw useful business insights from the data. This will expose you to what data scientists do \n",
    "most often–Exploratory Data Analysis."
   ]
  },
  {
   "cell_type": "markdown",
   "metadata": {
    "id": "rO0TXJmYvhr8"
   },
   "source": [
    "**Goals**\n",
    "1. Using the core statistical theoretical concepts and knowledge to solve real time problem \n",
    "statements.\n",
    "2. Visualize a real time industry scenario where one can use these statistical concepts.\n",
    "3. Detailed data analysis and number crunching using statistics\n",
    "4. Exhaustive report building using EDA and visualization techniques to help the business \n",
    "take decisions using insights from the data"
   ]
  },
  {
   "cell_type": "markdown",
   "metadata": {
    "id": "GYTguDPVvn8r"
   },
   "source": [
    "**Specifications**\n",
    "\n",
    "Part -I is concept based and walks you through various concepts of descriptive statistics, probability \n",
    "distributions and inferential statistics including confidence intervals and hypothesis testing.\n",
    "\n",
    "Part -II on the other hand is dataset based and explore various data cleaning options, data analysis \n",
    "options and using EDA to derive deep and meaningful insights for the business"
   ]
  },
  {
   "cell_type": "markdown",
   "metadata": {
    "id": "tXpIIyGRZlwy"
   },
   "source": [
    "## **PART-A ( Concept Based)--25 points**"
   ]
  },
  {
   "cell_type": "markdown",
   "metadata": {
    "id": "CQnUIeHdpZxo"
   },
   "source": [
    "**Importing Required Libraries:**"
   ]
  },
  {
   "cell_type": "code",
   "execution_count": 1,
   "metadata": {
    "id": "0TMaIpLGbX2x"
   },
   "outputs": [],
   "source": [
    "import numpy as np\n",
    "import pandas as pd\n",
    "import matplotlib.pyplot as plt\n",
    "import seaborn as sns\n",
    "import warnings\n",
    "warnings.filterwarnings('ignore')"
   ]
  },
  {
   "cell_type": "markdown",
   "metadata": {
    "id": "1VNM8Gc_aBXA"
   },
   "source": [
    "**Data:**\n",
    "\n",
    "The following are the BMI of 50 young adults\n",
    "\n",
    "17.5 18.0 36.8 31.7 31.7\n",
    "17.3 24.3 47.7 38.5 17.0\n",
    "23.7 16.5 25.1 17.4 18.0\n",
    "37.6 19.7 21.4 28.6 21.6\n",
    "19.3 20.0 16.9 25.2 19.8\n",
    "25.0 17.2 20.4 20.1 29.1\n",
    "19.1 25.2 23.2 25.9 24.0\n",
    "41.7 24.0 16.8 26.8 31.4\n",
    "16.9 17.2 24.1 35.2 19.1\n",
    "22.9 18.2 25.4 35.4 25.5\n",
    "\n",
    "Use this data for answering following questions where relevant"
   ]
  },
  {
   "cell_type": "code",
   "execution_count": 2,
   "metadata": {
    "colab": {
     "base_uri": "https://localhost:8080/",
     "height": 110
    },
    "id": "JN1Z0LjrbD_c",
    "outputId": "ec769a12-baf7-43a9-fb47-2e006f1d2fa3"
   },
   "outputs": [
    {
     "data": {
      "text/html": [
       "<div>\n",
       "<style scoped>\n",
       "    .dataframe tbody tr th:only-of-type {\n",
       "        vertical-align: middle;\n",
       "    }\n",
       "\n",
       "    .dataframe tbody tr th {\n",
       "        vertical-align: top;\n",
       "    }\n",
       "\n",
       "    .dataframe thead th {\n",
       "        text-align: right;\n",
       "    }\n",
       "</style>\n",
       "<table border=\"1\" class=\"dataframe\">\n",
       "  <thead>\n",
       "    <tr style=\"text-align: right;\">\n",
       "      <th></th>\n",
       "      <th>0</th>\n",
       "      <th>1</th>\n",
       "      <th>2</th>\n",
       "      <th>3</th>\n",
       "      <th>4</th>\n",
       "      <th>5</th>\n",
       "      <th>6</th>\n",
       "      <th>7</th>\n",
       "      <th>8</th>\n",
       "      <th>9</th>\n",
       "      <th>...</th>\n",
       "      <th>40</th>\n",
       "      <th>41</th>\n",
       "      <th>42</th>\n",
       "      <th>43</th>\n",
       "      <th>44</th>\n",
       "      <th>45</th>\n",
       "      <th>46</th>\n",
       "      <th>47</th>\n",
       "      <th>48</th>\n",
       "      <th>49</th>\n",
       "    </tr>\n",
       "  </thead>\n",
       "  <tbody>\n",
       "    <tr>\n",
       "      <th>BMI</th>\n",
       "      <td>17.5</td>\n",
       "      <td>18.0</td>\n",
       "      <td>36.8</td>\n",
       "      <td>31.7</td>\n",
       "      <td>31.7</td>\n",
       "      <td>17.3</td>\n",
       "      <td>24.3</td>\n",
       "      <td>47.7</td>\n",
       "      <td>38.5</td>\n",
       "      <td>17.0</td>\n",
       "      <td>...</td>\n",
       "      <td>16.9</td>\n",
       "      <td>17.2</td>\n",
       "      <td>24.1</td>\n",
       "      <td>35.2</td>\n",
       "      <td>19.1</td>\n",
       "      <td>22.9</td>\n",
       "      <td>18.2</td>\n",
       "      <td>25.4</td>\n",
       "      <td>35.4</td>\n",
       "      <td>25.5</td>\n",
       "    </tr>\n",
       "  </tbody>\n",
       "</table>\n",
       "<p>1 rows × 50 columns</p>\n",
       "</div>"
      ],
      "text/plain": [
       "       0     1     2     3     4     5     6     7     8     9   ...    40  \\\n",
       "BMI  17.5  18.0  36.8  31.7  31.7  17.3  24.3  47.7  38.5  17.0  ...  16.9   \n",
       "\n",
       "       41    42    43    44    45    46    47    48    49  \n",
       "BMI  17.2  24.1  35.2  19.1  22.9  18.2  25.4  35.4  25.5  \n",
       "\n",
       "[1 rows x 50 columns]"
      ]
     },
     "execution_count": 2,
     "metadata": {},
     "output_type": "execute_result"
    }
   ],
   "source": [
    "df = pd.DataFrame({\"BMI\": [17.5, 18.0, 36.8, 31.7, 31.7, 17.3, 24.3, 47.7, 38.5, 17.0,\n",
    "                           23.7, 16.5, 25.1, 17.4, 18.0, 37.6, 19.7, 21.4, 28.6, 21.6,\n",
    "                           19.3, 20.0, 16.9, 25.2, 19.8, 25.0, 17.2, 20.4, 20.1, 29.1,\n",
    "                           19.1, 25.2, 23.2, 25.9, 24.0, 41.7, 24.0, 16.8, 26.8, 31.4,\n",
    "                           16.9, 17.2, 24.1, 35.2, 19.1, 22.9, 18.2, 25.4, 35.4, 25.5]})\n",
    "df.T"
   ]
  },
  {
   "cell_type": "markdown",
   "metadata": {
    "id": "EkSBS2zuXwAP"
   },
   "source": [
    "**Questions:**\n",
    "\n",
    "1. Compute the mean, median and the mode of the data\n",
    "\n",
    "2. Compute the range , variance and standard deviation of BMI\n",
    "\n",
    "3. Find the mean deviation for the data \n",
    "\n",
    "4. Calculate the Pearson coefficient of skewness and comment on the \n",
    "skewness of the data\n",
    "\n",
    "5. Count the number of data values that fall within one standard deviation of \n",
    "the mean. Compare this with the answer from Chebyshev’s Theorem.\n",
    "\n",
    "6. Find the three quartiles and the interquartile range (IQR).\n",
    "\n",
    "7. Are there any outliers in the data set ?\n",
    "\n",
    "8. Draw a boxplot of the dataset to confirm .\n",
    "\n",
    "9. Find the percentile rank of the datapoint 25.0.\n",
    "\n",
    "10. What is the probability that a young adult has a BMI above 25.0?\n",
    "\n",
    "11. Create a frequency distribution for the data and visualize it appropriately\n",
    "\n",
    "12. Create a probability distribution of the data and visualize it appropriately. \n",
    "\n",
    "13. What is the shape of the distribution of this dataset? Create an \n",
    "appropriate graph to determine that. Take 100 random samples with \n",
    "replacement from this dataset of size 5 each. Create a sampling distribution of \n",
    "the mean age of customers. Compare with other sampling distributions of \n",
    "sample size 10, 15, 20, 25, 30. State your observations. Does it corroborate \n",
    "the Central Limit Theorem?\n",
    "\n",
    "14. Treat this dataset as a binomial distribution where p is the probability \n",
    "that a young adult has a BMI above 25.0. What is the probability that out of a \n",
    "random sample of 10 young adults exactly 6 are having BMI greater than 25.0?\n",
    "\n",
    "15. A study claims that 40% of all young adults have BMI greater than 25.0. \n",
    "Using the Normal approximation of a Binomial distribution, find the probability \n",
    "that in a random sample of 100 young adults exactly 50 of them will have will \n",
    "have a BMI is greater than 25.0.\n",
    "\n",
    "> [ Note that the normal distribution can be used to approximate a binomial \n",
    "distribution if np>=5 and nq>=5 with the following correction for continuity\n",
    "P(X=z) = P(z-0.5 < X < z+0.5 ) ]\n",
    "\n",
    "16. Compute a 95% Confidence Interval for the true BMI of the population of \n",
    "young adults using appropriate distribution.( State reasons as to why did you \n",
    "use a z or t distribution)\n",
    "\n",
    "17. A data scientist wants to estimate with 95% confidence the proportion of \n",
    "young adults having BMI greater than 25.0. A recent study showed that 40% \n",
    "of all young adults have BMI greater than 25.0. The data scientist wants to be \n",
    "accurate within 2% of the true proportion. Find the minimum sample size \n",
    "necessary.\n",
    "\n",
    "18. The same data scientist wants to estimate the true proportion of young \n",
    "adults having BMI greater than 25.0. She wants to be 90% confident and \n",
    "accurate within 5% of true proportion. Find the minimum sample size \n",
    "necessary.\n",
    "\n",
    "19. A researcher claims that currently 55% of all young adults have BMI \n",
    "greater than 25 . Test his claim with an alpha =0.05 if out of a random sample \n",
    "of 30 CEOs only 20 are having BMI above 25\n",
    "\n",
    "20. A data scientist is researching the hypothesis that there is no difference \n",
    "between BMI of public vs private schools students. So he collects data from the two \n",
    "schools and finds that the proportion of public school students whose BMI is above 25.0 is 31.8 % vs Private school students is 38.7 %. Suppose the data scientist got \n",
    "these values after interviewing 500 students of each school.\n",
    "\n",
    "> a. What hypothesis would he use to compare the proportions of students having \n",
    "BMI greater than 25.0 among both the schools.\n",
    "\n",
    "> b. What are critical values to be used?\n",
    "\n",
    "> c. What statistical test will be used to compare these proportions ?\n",
    "\n",
    "> d. Complete the test and obtain the P-value.\n",
    "\n",
    "> e. Summarize his conclusion based on the P-value.\n"
   ]
  },
  {
   "cell_type": "markdown",
   "metadata": {
    "id": "HZCQleBCpHZY"
   },
   "source": [
    "**Answers:**"
   ]
  },
  {
   "cell_type": "markdown",
   "metadata": {},
   "source": [
    "# 1. Compute the mean, median and the mode of the data"
   ]
  },
  {
   "cell_type": "code",
   "execution_count": 3,
   "metadata": {
    "colab": {
     "base_uri": "https://localhost:8080/"
    },
    "id": "A-vDffCWceQK",
    "outputId": "98c35e39-83c3-4f9f-f2db-8ffbe7ad65b2"
   },
   "outputs": [
    {
     "name": "stdout",
     "output_type": "stream",
     "text": [
      "Mean: 24.42\n",
      "Median: 23.45\n",
      "Mode:\n",
      "0    16.9\n",
      "1    17.2\n",
      "2    18.0\n",
      "3    19.1\n",
      "4    24.0\n",
      "5    25.2\n",
      "6    31.7\n",
      "Name: BMI, dtype: float64\n"
     ]
    }
   ],
   "source": [
    "print(\"Mean:\", round(df.BMI.mean(),2))\n",
    "print(\"Median:\", round(df.BMI.median(),2))\n",
    "print(\"Mode:\")\n",
    "print(df.BMI.mode())"
   ]
  },
  {
   "cell_type": "markdown",
   "metadata": {},
   "source": [
    "# 2. Compute the range , variance and standard deviation of BMI"
   ]
  },
  {
   "cell_type": "code",
   "execution_count": 4,
   "metadata": {
    "colab": {
     "base_uri": "https://localhost:8080/"
    },
    "id": "Qp9aUDTGd1LG",
    "outputId": "4ac3691a-ade0-4ed3-805b-9b15bf7335be"
   },
   "outputs": [
    {
     "name": "stdout",
     "output_type": "stream",
     "text": [
      "Range: 31.2\n",
      "Variance: 54.56\n",
      "Standard Deviation: 7.39\n"
     ]
    }
   ],
   "source": [
    "print(\"Range:\", round(df.BMI.max()-df.BMI.min(),2))\n",
    "print(\"Variance:\", round(df.BMI.var(),2))\n",
    "print(\"Standard Deviation:\", round(df.BMI.std(),2))"
   ]
  },
  {
   "cell_type": "markdown",
   "metadata": {},
   "source": [
    "# 3.Find the mean deviation for the data"
   ]
  },
  {
   "cell_type": "code",
   "execution_count": 5,
   "metadata": {
    "colab": {
     "base_uri": "https://localhost:8080/"
    },
    "id": "gNbkdvI_mYnw",
    "outputId": "875e0d12-2262-420d-d212-d3e20331cea6"
   },
   "outputs": [
    {
     "name": "stdout",
     "output_type": "stream",
     "text": [
      "Mean Deviation: 5.64\n"
     ]
    }
   ],
   "source": [
    "df['MD'] = abs(df['BMI'] - df['BMI'].mean())\n",
    "print(\"Mean Deviation:\", round((df.MD.sum()/len(df)),2))"
   ]
  },
  {
   "cell_type": "code",
   "execution_count": 6,
   "metadata": {},
   "outputs": [],
   "source": [
    "#The mean deviation is defined as a statistical measure that is used to calculate the average deviation from the mean value of the given data set."
   ]
  },
  {
   "cell_type": "code",
   "execution_count": 7,
   "metadata": {},
   "outputs": [],
   "source": [
    "#mean deviation-Sum up absolute differences between single values and the mean. Then get its average.\n",
    "#std deviation-Calculate squares of differences between single values and the mean. Then get their average and finally the root of the answer."
   ]
  },
  {
   "cell_type": "markdown",
   "metadata": {},
   "source": [
    "# 4.Calculate the Pearson coefficient of skewness and comment on the skewness of the data"
   ]
  },
  {
   "cell_type": "code",
   "execution_count": 8,
   "metadata": {
    "colab": {
     "base_uri": "https://localhost:8080/",
     "height": 514
    },
    "id": "3C_oazwqmYYL",
    "outputId": "db91d406-61ed-4b0c-90ce-078a343ebb11"
   },
   "outputs": [
    {
     "name": "stdout",
     "output_type": "stream",
     "text": [
      "Skewness: 1.2098844084694924\n"
     ]
    },
    {
     "data": {
      "image/png": "[encoded data removed]",
      "text/plain": [
       "<Figure size 1080x576 with 1 Axes>"
      ]
     },
     "metadata": {
      "needs_background": "light"
     },
     "output_type": "display_data"
    }
   ],
   "source": [
    "print(\"Skewness:\", df.BMI.skew())\n",
    "figure=plt.figure(figsize=(15,8))\n",
    "sns.distplot(df['BMI'], hist=False)\n",
    "plt.show()"
   ]
  },
  {
   "cell_type": "code",
   "execution_count": 9,
   "metadata": {
    "id": "hzM39warUkHm",
    "outputId": "4e71ad03-3518-496d-ae80-fd91990bf5c7"
   },
   "outputs": [
    {
     "name": "stdout",
     "output_type": "stream",
     "text": [
      "Pearson coefficient of skewness: 0.39\n"
     ]
    }
   ],
   "source": [
    "#Calculating pearson coefficient of skewness\n",
    "skewness=(3*(df['BMI'].mean()-df['BMI'].median()))/df['BMI'].std()\n",
    "print(\"Pearson coefficient of skewness:\",round(skewness,2))"
   ]
  },
  {
   "cell_type": "code",
   "execution_count": 10,
   "metadata": {
    "id": "sd96za29UkHn"
   },
   "outputs": [],
   "source": [
    "# Pearson's coeff of skewness=3*(mean-median/std)"
   ]
  },
  {
   "cell_type": "code",
   "execution_count": 11,
   "metadata": {
    "id": "Hmh0aHTCUkHo"
   },
   "outputs": [],
   "source": [
    "# As the coefficient of skewness is positive and also from the plot,we can infer that data is slightly positively skewed."
   ]
  },
  {
   "cell_type": "markdown",
   "metadata": {},
   "source": [
    "# 5.Count the number of data values that fall within one standard deviation of the mean. \n",
    "# Compare this with the answer from Chebyshev’s Theorem."
   ]
  },
  {
   "cell_type": "code",
   "execution_count": 12,
   "metadata": {
    "colab": {
     "base_uri": "https://localhost:8080/"
    },
    "id": "2XUI8drumXsj",
    "outputId": "ab14308f-b5f7-443c-8643-1ce059471fe7"
   },
   "outputs": [
    {
     "name": "stdout",
     "output_type": "stream",
     "text": [
      "31.80853739541591 17.035462604584104\n",
      "Number of data values that fall within one standard deviation of the mean: 38\n"
     ]
    }
   ],
   "source": [
    "up = df.BMI.mean() + df.BMI.std()\n",
    "down = df.BMI.mean() - df.BMI.std()\n",
    "print(up,down)\n",
    "one_std_from_mean = df.BMI[(df.BMI >= down) & (df.BMI <= up)]\n",
    "print(\"Number of data values that fall within one standard deviation of the mean:\",one_std_from_mean.count())"
   ]
  },
  {
   "cell_type": "code",
   "execution_count": 13,
   "metadata": {},
   "outputs": [],
   "source": [
    "#As per chebyshev's rule,no.of values that will fall within k std. deviations is (1-1/k**2)*100 and here k>1\n",
    "#In our case k=1,hence we can't apply chebyshev's theorem here."
   ]
  },
  {
   "cell_type": "code",
   "execution_count": 14,
   "metadata": {
    "id": "eT4UB32zUkHp",
    "outputId": "7565d869-a00b-4994-f140-e49611133008"
   },
   "outputs": [],
   "source": [
    "# mean = 24.42\n",
    "# print(df.BMI.min(), df.BMI.max())\n",
    "# print(round(mean - 17.035462604584104,1))     #mean-\n",
    "# print(round(31.80853739541591 - mean,1))\n",
    "# print(7.4/7.4)\n",
    "# values=(1 - (1/(7.4**2)))*100                     #(1-1/k**2)\n",
    "# print(\"Number of data values that fall within one standard deviation of the mean:\",values)"
   ]
  },
  {
   "cell_type": "code",
   "execution_count": 15,
   "metadata": {
    "id": "G_da2xiOUkHq"
   },
   "outputs": [],
   "source": [
    "# Since k value using chebyshev's theorm is 1 so we can conclude that 38 data points are between one standard deviation of mean."
   ]
  },
  {
   "cell_type": "markdown",
   "metadata": {},
   "source": [
    "# 6.Find the three quartiles and the interquartile range (IQR)."
   ]
  },
  {
   "cell_type": "code",
   "execution_count": 16,
   "metadata": {
    "colab": {
     "base_uri": "https://localhost:8080/"
    },
    "id": "ORnkmw8OZYWh",
    "outputId": "bfa18acd-0fff-4792-adb4-dc29ea2d93f9",
    "scrolled": true
   },
   "outputs": [
    {
     "name": "stdout",
     "output_type": "stream",
     "text": [
      "Q1: 18.425\n",
      "Q2: 23.45\n",
      "Q3: 26.575\n",
      "IQR: 8.15\n"
     ]
    }
   ],
   "source": [
    "Q1 = df.BMI.quantile(0.25)\n",
    "Q2 = df.BMI.quantile(0.5)\n",
    "Q3 = df.BMI.quantile(0.75)\n",
    "IQR = Q3 - Q1\n",
    "print(\"Q1:\", Q1)\n",
    "print(\"Q2:\", Q2)\n",
    "print(\"Q3:\", Q3)\n",
    "print(\"IQR:\", round(IQR,2))"
   ]
  },
  {
   "cell_type": "markdown",
   "metadata": {},
   "source": [
    "# 7. Are there any outliers in the data set ?"
   ]
  },
  {
   "cell_type": "code",
   "execution_count": 17,
   "metadata": {
    "colab": {
     "base_uri": "https://localhost:8080/"
    },
    "id": "cH1p6x9Jgnin",
    "outputId": "5f8acb44-33fc-412d-ac8a-4548389dfe83",
    "scrolled": true
   },
   "outputs": [
    {
     "data": {
      "text/plain": [
       "7     47.7\n",
       "35    41.7\n",
       "Name: BMI, dtype: float64"
      ]
     },
     "execution_count": 17,
     "metadata": {},
     "output_type": "execute_result"
    }
   ],
   "source": [
    "outlier = df.BMI[(df.BMI > (Q3 + 1.5*IQR)) | (df.BMI < (Q1 - 1.5*IQR))]\n",
    "outlier"
   ]
  },
  {
   "cell_type": "code",
   "execution_count": 18,
   "metadata": {},
   "outputs": [],
   "source": [
    "#There are just 2 outliers in our dataset"
   ]
  },
  {
   "cell_type": "markdown",
   "metadata": {},
   "source": [
    "# 8.Draw a boxplot of the dataset to confirm ."
   ]
  },
  {
   "cell_type": "code",
   "execution_count": 19,
   "metadata": {
    "colab": {
     "base_uri": "https://localhost:8080/",
     "height": 483
    },
    "id": "HFhLXfqokqN8",
    "outputId": "ec46a77d-ff00-4f76-9a86-92226ff8fb94"
   },
   "outputs": [
    {
     "data": {
      "image/png": "[encoded data removed]",
      "text/plain": [
       "<Figure size 576x576 with 1 Axes>"
      ]
     },
     "metadata": {
      "needs_background": "light"
     },
     "output_type": "display_data"
    }
   ],
   "source": [
    "figure=plt.figure(figsize=(8,8))\n",
    "df['BMI'].plot(kind='box')\n",
    "plt.show()"
   ]
  },
  {
   "cell_type": "code",
   "execution_count": 20,
   "metadata": {
    "id": "nYVri95-UkHs"
   },
   "outputs": [],
   "source": [
    "#With reference to q7 and the plot above,we say that there are 2 outliers present in the data."
   ]
  },
  {
   "cell_type": "markdown",
   "metadata": {},
   "source": [
    "# 9.Find the percentile rank of the datapoint 25.0."
   ]
  },
  {
   "cell_type": "code",
   "execution_count": 21,
   "metadata": {
    "id": "DNQwmm7kUkHs",
    "outputId": "8cd7779a-7818-4405-8f3b-a058977bb4c5"
   },
   "outputs": [
    {
     "data": {
      "text/html": [
       "<div>\n",
       "<style scoped>\n",
       "    .dataframe tbody tr th:only-of-type {\n",
       "        vertical-align: middle;\n",
       "    }\n",
       "\n",
       "    .dataframe tbody tr th {\n",
       "        vertical-align: top;\n",
       "    }\n",
       "\n",
       "    .dataframe thead th {\n",
       "        text-align: right;\n",
       "    }\n",
       "</style>\n",
       "<table border=\"1\" class=\"dataframe\">\n",
       "  <thead>\n",
       "    <tr style=\"text-align: right;\">\n",
       "      <th></th>\n",
       "      <th>BMI</th>\n",
       "      <th>MD</th>\n",
       "      <th>Percentile Rank</th>\n",
       "    </tr>\n",
       "  </thead>\n",
       "  <tbody>\n",
       "    <tr>\n",
       "      <th>0</th>\n",
       "      <td>17.5</td>\n",
       "      <td>6.922</td>\n",
       "      <td>0.20</td>\n",
       "    </tr>\n",
       "    <tr>\n",
       "      <th>1</th>\n",
       "      <td>18.0</td>\n",
       "      <td>6.422</td>\n",
       "      <td>0.23</td>\n",
       "    </tr>\n",
       "    <tr>\n",
       "      <th>2</th>\n",
       "      <td>36.8</td>\n",
       "      <td>12.378</td>\n",
       "      <td>0.92</td>\n",
       "    </tr>\n",
       "    <tr>\n",
       "      <th>3</th>\n",
       "      <td>31.7</td>\n",
       "      <td>7.278</td>\n",
       "      <td>0.85</td>\n",
       "    </tr>\n",
       "    <tr>\n",
       "      <th>4</th>\n",
       "      <td>31.7</td>\n",
       "      <td>7.278</td>\n",
       "      <td>0.85</td>\n",
       "    </tr>\n",
       "    <tr>\n",
       "      <th>5</th>\n",
       "      <td>17.3</td>\n",
       "      <td>7.122</td>\n",
       "      <td>0.16</td>\n",
       "    </tr>\n",
       "    <tr>\n",
       "      <th>6</th>\n",
       "      <td>24.3</td>\n",
       "      <td>0.122</td>\n",
       "      <td>0.60</td>\n",
       "    </tr>\n",
       "    <tr>\n",
       "      <th>7</th>\n",
       "      <td>47.7</td>\n",
       "      <td>23.278</td>\n",
       "      <td>1.00</td>\n",
       "    </tr>\n",
       "    <tr>\n",
       "      <th>8</th>\n",
       "      <td>38.5</td>\n",
       "      <td>14.078</td>\n",
       "      <td>0.96</td>\n",
       "    </tr>\n",
       "    <tr>\n",
       "      <th>9</th>\n",
       "      <td>17.0</td>\n",
       "      <td>7.422</td>\n",
       "      <td>0.10</td>\n",
       "    </tr>\n",
       "    <tr>\n",
       "      <th>10</th>\n",
       "      <td>23.7</td>\n",
       "      <td>0.722</td>\n",
       "      <td>0.52</td>\n",
       "    </tr>\n",
       "    <tr>\n",
       "      <th>11</th>\n",
       "      <td>16.5</td>\n",
       "      <td>7.922</td>\n",
       "      <td>0.02</td>\n",
       "    </tr>\n",
       "    <tr>\n",
       "      <th>12</th>\n",
       "      <td>25.1</td>\n",
       "      <td>0.678</td>\n",
       "      <td>0.64</td>\n",
       "    </tr>\n",
       "    <tr>\n",
       "      <th>13</th>\n",
       "      <td>17.4</td>\n",
       "      <td>7.022</td>\n",
       "      <td>0.18</td>\n",
       "    </tr>\n",
       "    <tr>\n",
       "      <th>14</th>\n",
       "      <td>18.0</td>\n",
       "      <td>6.422</td>\n",
       "      <td>0.23</td>\n",
       "    </tr>\n",
       "    <tr>\n",
       "      <th>15</th>\n",
       "      <td>37.6</td>\n",
       "      <td>13.178</td>\n",
       "      <td>0.94</td>\n",
       "    </tr>\n",
       "    <tr>\n",
       "      <th>16</th>\n",
       "      <td>19.7</td>\n",
       "      <td>4.722</td>\n",
       "      <td>0.34</td>\n",
       "    </tr>\n",
       "    <tr>\n",
       "      <th>17</th>\n",
       "      <td>21.4</td>\n",
       "      <td>3.022</td>\n",
       "      <td>0.44</td>\n",
       "    </tr>\n",
       "    <tr>\n",
       "      <th>18</th>\n",
       "      <td>28.6</td>\n",
       "      <td>4.178</td>\n",
       "      <td>0.78</td>\n",
       "    </tr>\n",
       "    <tr>\n",
       "      <th>19</th>\n",
       "      <td>21.6</td>\n",
       "      <td>2.822</td>\n",
       "      <td>0.46</td>\n",
       "    </tr>\n",
       "    <tr>\n",
       "      <th>20</th>\n",
       "      <td>19.3</td>\n",
       "      <td>5.122</td>\n",
       "      <td>0.32</td>\n",
       "    </tr>\n",
       "    <tr>\n",
       "      <th>21</th>\n",
       "      <td>20.0</td>\n",
       "      <td>4.422</td>\n",
       "      <td>0.38</td>\n",
       "    </tr>\n",
       "    <tr>\n",
       "      <th>22</th>\n",
       "      <td>16.9</td>\n",
       "      <td>7.522</td>\n",
       "      <td>0.07</td>\n",
       "    </tr>\n",
       "    <tr>\n",
       "      <th>23</th>\n",
       "      <td>25.2</td>\n",
       "      <td>0.778</td>\n",
       "      <td>0.67</td>\n",
       "    </tr>\n",
       "    <tr>\n",
       "      <th>24</th>\n",
       "      <td>19.8</td>\n",
       "      <td>4.622</td>\n",
       "      <td>0.36</td>\n",
       "    </tr>\n",
       "    <tr>\n",
       "      <th>25</th>\n",
       "      <td>25.0</td>\n",
       "      <td>0.578</td>\n",
       "      <td>0.62</td>\n",
       "    </tr>\n",
       "    <tr>\n",
       "      <th>26</th>\n",
       "      <td>17.2</td>\n",
       "      <td>7.222</td>\n",
       "      <td>0.13</td>\n",
       "    </tr>\n",
       "    <tr>\n",
       "      <th>27</th>\n",
       "      <td>20.4</td>\n",
       "      <td>4.022</td>\n",
       "      <td>0.42</td>\n",
       "    </tr>\n",
       "    <tr>\n",
       "      <th>28</th>\n",
       "      <td>20.1</td>\n",
       "      <td>4.322</td>\n",
       "      <td>0.40</td>\n",
       "    </tr>\n",
       "    <tr>\n",
       "      <th>29</th>\n",
       "      <td>29.1</td>\n",
       "      <td>4.678</td>\n",
       "      <td>0.80</td>\n",
       "    </tr>\n",
       "    <tr>\n",
       "      <th>30</th>\n",
       "      <td>19.1</td>\n",
       "      <td>5.322</td>\n",
       "      <td>0.29</td>\n",
       "    </tr>\n",
       "    <tr>\n",
       "      <th>31</th>\n",
       "      <td>25.2</td>\n",
       "      <td>0.778</td>\n",
       "      <td>0.67</td>\n",
       "    </tr>\n",
       "    <tr>\n",
       "      <th>32</th>\n",
       "      <td>23.2</td>\n",
       "      <td>1.222</td>\n",
       "      <td>0.50</td>\n",
       "    </tr>\n",
       "    <tr>\n",
       "      <th>33</th>\n",
       "      <td>25.9</td>\n",
       "      <td>1.478</td>\n",
       "      <td>0.74</td>\n",
       "    </tr>\n",
       "    <tr>\n",
       "      <th>34</th>\n",
       "      <td>24.0</td>\n",
       "      <td>0.422</td>\n",
       "      <td>0.55</td>\n",
       "    </tr>\n",
       "    <tr>\n",
       "      <th>35</th>\n",
       "      <td>41.7</td>\n",
       "      <td>17.278</td>\n",
       "      <td>0.98</td>\n",
       "    </tr>\n",
       "    <tr>\n",
       "      <th>36</th>\n",
       "      <td>24.0</td>\n",
       "      <td>0.422</td>\n",
       "      <td>0.55</td>\n",
       "    </tr>\n",
       "    <tr>\n",
       "      <th>37</th>\n",
       "      <td>16.8</td>\n",
       "      <td>7.622</td>\n",
       "      <td>0.04</td>\n",
       "    </tr>\n",
       "    <tr>\n",
       "      <th>38</th>\n",
       "      <td>26.8</td>\n",
       "      <td>2.378</td>\n",
       "      <td>0.76</td>\n",
       "    </tr>\n",
       "    <tr>\n",
       "      <th>39</th>\n",
       "      <td>31.4</td>\n",
       "      <td>6.978</td>\n",
       "      <td>0.82</td>\n",
       "    </tr>\n",
       "    <tr>\n",
       "      <th>40</th>\n",
       "      <td>16.9</td>\n",
       "      <td>7.522</td>\n",
       "      <td>0.07</td>\n",
       "    </tr>\n",
       "    <tr>\n",
       "      <th>41</th>\n",
       "      <td>17.2</td>\n",
       "      <td>7.222</td>\n",
       "      <td>0.13</td>\n",
       "    </tr>\n",
       "    <tr>\n",
       "      <th>42</th>\n",
       "      <td>24.1</td>\n",
       "      <td>0.322</td>\n",
       "      <td>0.58</td>\n",
       "    </tr>\n",
       "    <tr>\n",
       "      <th>43</th>\n",
       "      <td>35.2</td>\n",
       "      <td>10.778</td>\n",
       "      <td>0.88</td>\n",
       "    </tr>\n",
       "    <tr>\n",
       "      <th>44</th>\n",
       "      <td>19.1</td>\n",
       "      <td>5.322</td>\n",
       "      <td>0.29</td>\n",
       "    </tr>\n",
       "    <tr>\n",
       "      <th>45</th>\n",
       "      <td>22.9</td>\n",
       "      <td>1.522</td>\n",
       "      <td>0.48</td>\n",
       "    </tr>\n",
       "    <tr>\n",
       "      <th>46</th>\n",
       "      <td>18.2</td>\n",
       "      <td>6.222</td>\n",
       "      <td>0.26</td>\n",
       "    </tr>\n",
       "    <tr>\n",
       "      <th>47</th>\n",
       "      <td>25.4</td>\n",
       "      <td>0.978</td>\n",
       "      <td>0.70</td>\n",
       "    </tr>\n",
       "    <tr>\n",
       "      <th>48</th>\n",
       "      <td>35.4</td>\n",
       "      <td>10.978</td>\n",
       "      <td>0.90</td>\n",
       "    </tr>\n",
       "    <tr>\n",
       "      <th>49</th>\n",
       "      <td>25.5</td>\n",
       "      <td>1.078</td>\n",
       "      <td>0.72</td>\n",
       "    </tr>\n",
       "  </tbody>\n",
       "</table>\n",
       "</div>"
      ],
      "text/plain": [
       "     BMI      MD  Percentile Rank\n",
       "0   17.5   6.922             0.20\n",
       "1   18.0   6.422             0.23\n",
       "2   36.8  12.378             0.92\n",
       "3   31.7   7.278             0.85\n",
       "4   31.7   7.278             0.85\n",
       "5   17.3   7.122             0.16\n",
       "6   24.3   0.122             0.60\n",
       "7   47.7  23.278             1.00\n",
       "8   38.5  14.078             0.96\n",
       "9   17.0   7.422             0.10\n",
       "10  23.7   0.722             0.52\n",
       "11  16.5   7.922             0.02\n",
       "12  25.1   0.678             0.64\n",
       "13  17.4   7.022             0.18\n",
       "14  18.0   6.422             0.23\n",
       "15  37.6  13.178             0.94\n",
       "16  19.7   4.722             0.34\n",
       "17  21.4   3.022             0.44\n",
       "18  28.6   4.178             0.78\n",
       "19  21.6   2.822             0.46\n",
       "20  19.3   5.122             0.32\n",
       "21  20.0   4.422             0.38\n",
       "22  16.9   7.522             0.07\n",
       "23  25.2   0.778             0.67\n",
       "24  19.8   4.622             0.36\n",
       "25  25.0   0.578             0.62\n",
       "26  17.2   7.222             0.13\n",
       "27  20.4   4.022             0.42\n",
       "28  20.1   4.322             0.40\n",
       "29  29.1   4.678             0.80\n",
       "30  19.1   5.322             0.29\n",
       "31  25.2   0.778             0.67\n",
       "32  23.2   1.222             0.50\n",
       "33  25.9   1.478             0.74\n",
       "34  24.0   0.422             0.55\n",
       "35  41.7  17.278             0.98\n",
       "36  24.0   0.422             0.55\n",
       "37  16.8   7.622             0.04\n",
       "38  26.8   2.378             0.76\n",
       "39  31.4   6.978             0.82\n",
       "40  16.9   7.522             0.07\n",
       "41  17.2   7.222             0.13\n",
       "42  24.1   0.322             0.58\n",
       "43  35.2  10.778             0.88\n",
       "44  19.1   5.322             0.29\n",
       "45  22.9   1.522             0.48\n",
       "46  18.2   6.222             0.26\n",
       "47  25.4   0.978             0.70\n",
       "48  35.4  10.978             0.90\n",
       "49  25.5   1.078             0.72"
      ]
     },
     "execution_count": 21,
     "metadata": {},
     "output_type": "execute_result"
    }
   ],
   "source": [
    "df['Percentile Rank'] = df.BMI.rank(pct = True)\n",
    "df"
   ]
  },
  {
   "cell_type": "code",
   "execution_count": 22,
   "metadata": {},
   "outputs": [
    {
     "data": {
      "text/plain": [
       "25    0.62\n",
       "Name: Percentile Rank, dtype: float64"
      ]
     },
     "execution_count": 22,
     "metadata": {},
     "output_type": "execute_result"
    }
   ],
   "source": [
    "df['Percentile Rank'][(df.BMI==25)]"
   ]
  },
  {
   "cell_type": "markdown",
   "metadata": {},
   "source": [
    "# 10. What is the probability that a young adult has a BMI above 25.0?"
   ]
  },
  {
   "cell_type": "code",
   "execution_count": 23,
   "metadata": {
    "id": "e2Sw2jYBUkHt",
    "outputId": "7482b0cd-0cd5-4962-f11c-f2874e482f45"
   },
   "outputs": [
    {
     "name": "stdout",
     "output_type": "stream",
     "text": [
      "Probability that a young adult has a BMI above 25.0 is  0.469\n"
     ]
    }
   ],
   "source": [
    "from scipy import stats\n",
    "mean=df.BMI.mean()\n",
    "std=df.BMI.std()\n",
    "z=(25-mean)/std\n",
    "prob=stats.norm.sf(z)\n",
    "print(\"Probability that a young adult has a BMI above 25.0 is \",round(prob,3))"
   ]
  },
  {
   "cell_type": "markdown",
   "metadata": {},
   "source": [
    "# 11.Create a frequency distribution for the data and visualize it appropriately"
   ]
  },
  {
   "cell_type": "code",
   "execution_count": 24,
   "metadata": {
    "id": "6PyqKJnGUkHt",
    "outputId": "bd272f5d-93c4-4d4f-e50e-fe48a9942de6"
   },
   "outputs": [
    {
     "data": {
      "image/png": "[encoded data removed]",
      "text/plain": [
       "<Figure size 432x288 with 1 Axes>"
      ]
     },
     "metadata": {
      "needs_background": "light"
     },
     "output_type": "display_data"
    }
   ],
   "source": [
    "# create frequency distribution\n",
    "score,freq = np.unique(df['BMI'], return_counts=True)\n",
    "# create dataframe\n",
    "df_freq = pd.DataFrame({'Score': score, 'Frequency': freq})\n",
    "# plot frequency distribution\n",
    "plt.bar(df_freq['Score'], df_freq['Frequency'])\n",
    "plt.xlabel('Score')\n",
    "plt.ylabel('Frequency')\n",
    "plt.title('Frequency Distribution')\n",
    "plt.show()"
   ]
  },
  {
   "cell_type": "code",
   "execution_count": 25,
   "metadata": {
    "id": "6OBXx4CKUkHu",
    "outputId": "c55394b6-a734-4fa2-ee2c-4c3ea936b084",
    "scrolled": true
   },
   "outputs": [
    {
     "data": {
      "text/html": [
       "<div>\n",
       "<style scoped>\n",
       "    .dataframe tbody tr th:only-of-type {\n",
       "        vertical-align: middle;\n",
       "    }\n",
       "\n",
       "    .dataframe tbody tr th {\n",
       "        vertical-align: top;\n",
       "    }\n",
       "\n",
       "    .dataframe thead th {\n",
       "        text-align: right;\n",
       "    }\n",
       "</style>\n",
       "<table border=\"1\" class=\"dataframe\">\n",
       "  <thead>\n",
       "    <tr style=\"text-align: right;\">\n",
       "      <th></th>\n",
       "      <th>Score</th>\n",
       "      <th>Frequency</th>\n",
       "    </tr>\n",
       "  </thead>\n",
       "  <tbody>\n",
       "    <tr>\n",
       "      <th>0</th>\n",
       "      <td>16.5</td>\n",
       "      <td>1</td>\n",
       "    </tr>\n",
       "    <tr>\n",
       "      <th>1</th>\n",
       "      <td>16.8</td>\n",
       "      <td>1</td>\n",
       "    </tr>\n",
       "    <tr>\n",
       "      <th>2</th>\n",
       "      <td>16.9</td>\n",
       "      <td>2</td>\n",
       "    </tr>\n",
       "    <tr>\n",
       "      <th>3</th>\n",
       "      <td>17.0</td>\n",
       "      <td>1</td>\n",
       "    </tr>\n",
       "    <tr>\n",
       "      <th>4</th>\n",
       "      <td>17.2</td>\n",
       "      <td>2</td>\n",
       "    </tr>\n",
       "    <tr>\n",
       "      <th>5</th>\n",
       "      <td>17.3</td>\n",
       "      <td>1</td>\n",
       "    </tr>\n",
       "    <tr>\n",
       "      <th>6</th>\n",
       "      <td>17.4</td>\n",
       "      <td>1</td>\n",
       "    </tr>\n",
       "    <tr>\n",
       "      <th>7</th>\n",
       "      <td>17.5</td>\n",
       "      <td>1</td>\n",
       "    </tr>\n",
       "    <tr>\n",
       "      <th>8</th>\n",
       "      <td>18.0</td>\n",
       "      <td>2</td>\n",
       "    </tr>\n",
       "    <tr>\n",
       "      <th>9</th>\n",
       "      <td>18.2</td>\n",
       "      <td>1</td>\n",
       "    </tr>\n",
       "    <tr>\n",
       "      <th>10</th>\n",
       "      <td>19.1</td>\n",
       "      <td>2</td>\n",
       "    </tr>\n",
       "    <tr>\n",
       "      <th>11</th>\n",
       "      <td>19.3</td>\n",
       "      <td>1</td>\n",
       "    </tr>\n",
       "    <tr>\n",
       "      <th>12</th>\n",
       "      <td>19.7</td>\n",
       "      <td>1</td>\n",
       "    </tr>\n",
       "    <tr>\n",
       "      <th>13</th>\n",
       "      <td>19.8</td>\n",
       "      <td>1</td>\n",
       "    </tr>\n",
       "    <tr>\n",
       "      <th>14</th>\n",
       "      <td>20.0</td>\n",
       "      <td>1</td>\n",
       "    </tr>\n",
       "    <tr>\n",
       "      <th>15</th>\n",
       "      <td>20.1</td>\n",
       "      <td>1</td>\n",
       "    </tr>\n",
       "    <tr>\n",
       "      <th>16</th>\n",
       "      <td>20.4</td>\n",
       "      <td>1</td>\n",
       "    </tr>\n",
       "    <tr>\n",
       "      <th>17</th>\n",
       "      <td>21.4</td>\n",
       "      <td>1</td>\n",
       "    </tr>\n",
       "    <tr>\n",
       "      <th>18</th>\n",
       "      <td>21.6</td>\n",
       "      <td>1</td>\n",
       "    </tr>\n",
       "    <tr>\n",
       "      <th>19</th>\n",
       "      <td>22.9</td>\n",
       "      <td>1</td>\n",
       "    </tr>\n",
       "    <tr>\n",
       "      <th>20</th>\n",
       "      <td>23.2</td>\n",
       "      <td>1</td>\n",
       "    </tr>\n",
       "    <tr>\n",
       "      <th>21</th>\n",
       "      <td>23.7</td>\n",
       "      <td>1</td>\n",
       "    </tr>\n",
       "    <tr>\n",
       "      <th>22</th>\n",
       "      <td>24.0</td>\n",
       "      <td>2</td>\n",
       "    </tr>\n",
       "    <tr>\n",
       "      <th>23</th>\n",
       "      <td>24.1</td>\n",
       "      <td>1</td>\n",
       "    </tr>\n",
       "    <tr>\n",
       "      <th>24</th>\n",
       "      <td>24.3</td>\n",
       "      <td>1</td>\n",
       "    </tr>\n",
       "    <tr>\n",
       "      <th>25</th>\n",
       "      <td>25.0</td>\n",
       "      <td>1</td>\n",
       "    </tr>\n",
       "    <tr>\n",
       "      <th>26</th>\n",
       "      <td>25.1</td>\n",
       "      <td>1</td>\n",
       "    </tr>\n",
       "    <tr>\n",
       "      <th>27</th>\n",
       "      <td>25.2</td>\n",
       "      <td>2</td>\n",
       "    </tr>\n",
       "    <tr>\n",
       "      <th>28</th>\n",
       "      <td>25.4</td>\n",
       "      <td>1</td>\n",
       "    </tr>\n",
       "    <tr>\n",
       "      <th>29</th>\n",
       "      <td>25.5</td>\n",
       "      <td>1</td>\n",
       "    </tr>\n",
       "    <tr>\n",
       "      <th>30</th>\n",
       "      <td>25.9</td>\n",
       "      <td>1</td>\n",
       "    </tr>\n",
       "    <tr>\n",
       "      <th>31</th>\n",
       "      <td>26.8</td>\n",
       "      <td>1</td>\n",
       "    </tr>\n",
       "    <tr>\n",
       "      <th>32</th>\n",
       "      <td>28.6</td>\n",
       "      <td>1</td>\n",
       "    </tr>\n",
       "    <tr>\n",
       "      <th>33</th>\n",
       "      <td>29.1</td>\n",
       "      <td>1</td>\n",
       "    </tr>\n",
       "    <tr>\n",
       "      <th>34</th>\n",
       "      <td>31.4</td>\n",
       "      <td>1</td>\n",
       "    </tr>\n",
       "    <tr>\n",
       "      <th>35</th>\n",
       "      <td>31.7</td>\n",
       "      <td>2</td>\n",
       "    </tr>\n",
       "    <tr>\n",
       "      <th>36</th>\n",
       "      <td>35.2</td>\n",
       "      <td>1</td>\n",
       "    </tr>\n",
       "    <tr>\n",
       "      <th>37</th>\n",
       "      <td>35.4</td>\n",
       "      <td>1</td>\n",
       "    </tr>\n",
       "    <tr>\n",
       "      <th>38</th>\n",
       "      <td>36.8</td>\n",
       "      <td>1</td>\n",
       "    </tr>\n",
       "    <tr>\n",
       "      <th>39</th>\n",
       "      <td>37.6</td>\n",
       "      <td>1</td>\n",
       "    </tr>\n",
       "    <tr>\n",
       "      <th>40</th>\n",
       "      <td>38.5</td>\n",
       "      <td>1</td>\n",
       "    </tr>\n",
       "    <tr>\n",
       "      <th>41</th>\n",
       "      <td>41.7</td>\n",
       "      <td>1</td>\n",
       "    </tr>\n",
       "    <tr>\n",
       "      <th>42</th>\n",
       "      <td>47.7</td>\n",
       "      <td>1</td>\n",
       "    </tr>\n",
       "  </tbody>\n",
       "</table>\n",
       "</div>"
      ],
      "text/plain": [
       "    Score  Frequency\n",
       "0    16.5          1\n",
       "1    16.8          1\n",
       "2    16.9          2\n",
       "3    17.0          1\n",
       "4    17.2          2\n",
       "5    17.3          1\n",
       "6    17.4          1\n",
       "7    17.5          1\n",
       "8    18.0          2\n",
       "9    18.2          1\n",
       "10   19.1          2\n",
       "11   19.3          1\n",
       "12   19.7          1\n",
       "13   19.8          1\n",
       "14   20.0          1\n",
       "15   20.1          1\n",
       "16   20.4          1\n",
       "17   21.4          1\n",
       "18   21.6          1\n",
       "19   22.9          1\n",
       "20   23.2          1\n",
       "21   23.7          1\n",
       "22   24.0          2\n",
       "23   24.1          1\n",
       "24   24.3          1\n",
       "25   25.0          1\n",
       "26   25.1          1\n",
       "27   25.2          2\n",
       "28   25.4          1\n",
       "29   25.5          1\n",
       "30   25.9          1\n",
       "31   26.8          1\n",
       "32   28.6          1\n",
       "33   29.1          1\n",
       "34   31.4          1\n",
       "35   31.7          2\n",
       "36   35.2          1\n",
       "37   35.4          1\n",
       "38   36.8          1\n",
       "39   37.6          1\n",
       "40   38.5          1\n",
       "41   41.7          1\n",
       "42   47.7          1"
      ]
     },
     "execution_count": 25,
     "metadata": {},
     "output_type": "execute_result"
    }
   ],
   "source": [
    "df_freq"
   ]
  },
  {
   "cell_type": "markdown",
   "metadata": {},
   "source": [
    "# 12.Create a probability distribution of the data and visualize it appropriately."
   ]
  },
  {
   "cell_type": "code",
   "execution_count": 26,
   "metadata": {
    "id": "ifJ86mSIUkHu",
    "outputId": "2b78b2dc-f291-4eb3-d5ec-5d0ca2ffc232",
    "scrolled": true
   },
   "outputs": [
    {
     "data": {
      "image/png": "[encoded data removed]",
      "text/plain": [
       "<Figure size 432x288 with 1 Axes>"
      ]
     },
     "metadata": {
      "needs_background": "light"
     },
     "output_type": "display_data"
    }
   ],
   "source": [
    "ax = sns.distplot(df['BMI'],\n",
    "                  bins=50,\n",
    "                  kde=True,\n",
    "                hist_kws={\"linewidth\": 15,'alpha':1})\n",
    "ax.set(xlabel='Probability Distribution', ylabel='Frequency')\n",
    " \n",
    "plt.show()"
   ]
  },
  {
   "cell_type": "code",
   "execution_count": 27,
   "metadata": {
    "id": "B7NdKvXVUkHv",
    "outputId": "c07572a7-c6ca-4ec7-bcb5-98ff2204942f"
   },
   "outputs": [
    {
     "data": {
      "text/html": [
       "<div>\n",
       "<style scoped>\n",
       "    .dataframe tbody tr th:only-of-type {\n",
       "        vertical-align: middle;\n",
       "    }\n",
       "\n",
       "    .dataframe tbody tr th {\n",
       "        vertical-align: top;\n",
       "    }\n",
       "\n",
       "    .dataframe thead th {\n",
       "        text-align: right;\n",
       "    }\n",
       "</style>\n",
       "<table border=\"1\" class=\"dataframe\">\n",
       "  <thead>\n",
       "    <tr style=\"text-align: right;\">\n",
       "      <th></th>\n",
       "      <th>BMI</th>\n",
       "    </tr>\n",
       "  </thead>\n",
       "  <tbody>\n",
       "    <tr>\n",
       "      <th>25.2</th>\n",
       "      <td>0.04</td>\n",
       "    </tr>\n",
       "    <tr>\n",
       "      <th>24.0</th>\n",
       "      <td>0.04</td>\n",
       "    </tr>\n",
       "    <tr>\n",
       "      <th>18.0</th>\n",
       "      <td>0.04</td>\n",
       "    </tr>\n",
       "    <tr>\n",
       "      <th>16.9</th>\n",
       "      <td>0.04</td>\n",
       "    </tr>\n",
       "    <tr>\n",
       "      <th>19.1</th>\n",
       "      <td>0.04</td>\n",
       "    </tr>\n",
       "    <tr>\n",
       "      <th>17.2</th>\n",
       "      <td>0.04</td>\n",
       "    </tr>\n",
       "    <tr>\n",
       "      <th>31.7</th>\n",
       "      <td>0.04</td>\n",
       "    </tr>\n",
       "    <tr>\n",
       "      <th>22.9</th>\n",
       "      <td>0.02</td>\n",
       "    </tr>\n",
       "    <tr>\n",
       "      <th>23.2</th>\n",
       "      <td>0.02</td>\n",
       "    </tr>\n",
       "    <tr>\n",
       "      <th>35.4</th>\n",
       "      <td>0.02</td>\n",
       "    </tr>\n",
       "    <tr>\n",
       "      <th>20.4</th>\n",
       "      <td>0.02</td>\n",
       "    </tr>\n",
       "    <tr>\n",
       "      <th>20.1</th>\n",
       "      <td>0.02</td>\n",
       "    </tr>\n",
       "    <tr>\n",
       "      <th>29.1</th>\n",
       "      <td>0.02</td>\n",
       "    </tr>\n",
       "    <tr>\n",
       "      <th>25.4</th>\n",
       "      <td>0.02</td>\n",
       "    </tr>\n",
       "    <tr>\n",
       "      <th>25.9</th>\n",
       "      <td>0.02</td>\n",
       "    </tr>\n",
       "    <tr>\n",
       "      <th>35.2</th>\n",
       "      <td>0.02</td>\n",
       "    </tr>\n",
       "    <tr>\n",
       "      <th>18.2</th>\n",
       "      <td>0.02</td>\n",
       "    </tr>\n",
       "    <tr>\n",
       "      <th>41.7</th>\n",
       "      <td>0.02</td>\n",
       "    </tr>\n",
       "    <tr>\n",
       "      <th>25.0</th>\n",
       "      <td>0.02</td>\n",
       "    </tr>\n",
       "    <tr>\n",
       "      <th>26.8</th>\n",
       "      <td>0.02</td>\n",
       "    </tr>\n",
       "    <tr>\n",
       "      <th>31.4</th>\n",
       "      <td>0.02</td>\n",
       "    </tr>\n",
       "    <tr>\n",
       "      <th>24.1</th>\n",
       "      <td>0.02</td>\n",
       "    </tr>\n",
       "    <tr>\n",
       "      <th>16.8</th>\n",
       "      <td>0.02</td>\n",
       "    </tr>\n",
       "    <tr>\n",
       "      <th>17.5</th>\n",
       "      <td>0.02</td>\n",
       "    </tr>\n",
       "    <tr>\n",
       "      <th>19.8</th>\n",
       "      <td>0.02</td>\n",
       "    </tr>\n",
       "    <tr>\n",
       "      <th>16.5</th>\n",
       "      <td>0.02</td>\n",
       "    </tr>\n",
       "    <tr>\n",
       "      <th>36.8</th>\n",
       "      <td>0.02</td>\n",
       "    </tr>\n",
       "    <tr>\n",
       "      <th>17.3</th>\n",
       "      <td>0.02</td>\n",
       "    </tr>\n",
       "    <tr>\n",
       "      <th>24.3</th>\n",
       "      <td>0.02</td>\n",
       "    </tr>\n",
       "    <tr>\n",
       "      <th>47.7</th>\n",
       "      <td>0.02</td>\n",
       "    </tr>\n",
       "    <tr>\n",
       "      <th>38.5</th>\n",
       "      <td>0.02</td>\n",
       "    </tr>\n",
       "    <tr>\n",
       "      <th>17.0</th>\n",
       "      <td>0.02</td>\n",
       "    </tr>\n",
       "    <tr>\n",
       "      <th>23.7</th>\n",
       "      <td>0.02</td>\n",
       "    </tr>\n",
       "    <tr>\n",
       "      <th>25.1</th>\n",
       "      <td>0.02</td>\n",
       "    </tr>\n",
       "    <tr>\n",
       "      <th>20.0</th>\n",
       "      <td>0.02</td>\n",
       "    </tr>\n",
       "    <tr>\n",
       "      <th>17.4</th>\n",
       "      <td>0.02</td>\n",
       "    </tr>\n",
       "    <tr>\n",
       "      <th>37.6</th>\n",
       "      <td>0.02</td>\n",
       "    </tr>\n",
       "    <tr>\n",
       "      <th>19.7</th>\n",
       "      <td>0.02</td>\n",
       "    </tr>\n",
       "    <tr>\n",
       "      <th>21.4</th>\n",
       "      <td>0.02</td>\n",
       "    </tr>\n",
       "    <tr>\n",
       "      <th>28.6</th>\n",
       "      <td>0.02</td>\n",
       "    </tr>\n",
       "    <tr>\n",
       "      <th>21.6</th>\n",
       "      <td>0.02</td>\n",
       "    </tr>\n",
       "    <tr>\n",
       "      <th>19.3</th>\n",
       "      <td>0.02</td>\n",
       "    </tr>\n",
       "    <tr>\n",
       "      <th>25.5</th>\n",
       "      <td>0.02</td>\n",
       "    </tr>\n",
       "  </tbody>\n",
       "</table>\n",
       "</div>"
      ],
      "text/plain": [
       "       BMI\n",
       "25.2  0.04\n",
       "24.0  0.04\n",
       "18.0  0.04\n",
       "16.9  0.04\n",
       "19.1  0.04\n",
       "17.2  0.04\n",
       "31.7  0.04\n",
       "22.9  0.02\n",
       "23.2  0.02\n",
       "35.4  0.02\n",
       "20.4  0.02\n",
       "20.1  0.02\n",
       "29.1  0.02\n",
       "25.4  0.02\n",
       "25.9  0.02\n",
       "35.2  0.02\n",
       "18.2  0.02\n",
       "41.7  0.02\n",
       "25.0  0.02\n",
       "26.8  0.02\n",
       "31.4  0.02\n",
       "24.1  0.02\n",
       "16.8  0.02\n",
       "17.5  0.02\n",
       "19.8  0.02\n",
       "16.5  0.02\n",
       "36.8  0.02\n",
       "17.3  0.02\n",
       "24.3  0.02\n",
       "47.7  0.02\n",
       "38.5  0.02\n",
       "17.0  0.02\n",
       "23.7  0.02\n",
       "25.1  0.02\n",
       "20.0  0.02\n",
       "17.4  0.02\n",
       "37.6  0.02\n",
       "19.7  0.02\n",
       "21.4  0.02\n",
       "28.6  0.02\n",
       "21.6  0.02\n",
       "19.3  0.02\n",
       "25.5  0.02"
      ]
     },
     "execution_count": 27,
     "metadata": {},
     "output_type": "execute_result"
    }
   ],
   "source": [
    "# Probability distribution table\n",
    "probDistributionTable = pd.DataFrame(df['BMI'].value_counts()/50)\n",
    "probDistributionTable"
   ]
  },
  {
   "cell_type": "code",
   "execution_count": 28,
   "metadata": {
    "id": "v0AIbCI6UkHv"
   },
   "outputs": [],
   "source": [
    "# With the above plot we can infer that the data is right skewed"
   ]
  },
  {
   "cell_type": "markdown",
   "metadata": {},
   "source": [
    "# 13.What is the shape of the distribution of this dataset? Create an appropriate graph to determine that. "
   ]
  },
  {
   "cell_type": "code",
   "execution_count": 29,
   "metadata": {
    "id": "QLqaWRlrUkHw",
    "outputId": "9e1d30be-a1b4-4a19-a8fb-c7660109b0af"
   },
   "outputs": [
    {
     "data": {
      "text/plain": [
       "<AxesSubplot:xlabel='BMI', ylabel='Density'>"
      ]
     },
     "execution_count": 29,
     "metadata": {},
     "output_type": "execute_result"
    },
    {
     "data": {
      "image/png": "[encoded data removed]",
      "text/plain": [
       "<Figure size 432x288 with 1 Axes>"
      ]
     },
     "metadata": {
      "needs_background": "light"
     },
     "output_type": "display_data"
    }
   ],
   "source": [
    "sns.distplot(df['BMI'])"
   ]
  },
  {
   "cell_type": "code",
   "execution_count": 30,
   "metadata": {
    "id": "6DRcNLfDUkHw"
   },
   "outputs": [],
   "source": [
    "#shape of data is slightly right-skewed."
   ]
  },
  {
   "cell_type": "markdown",
   "metadata": {},
   "source": [
    "Take 100 random samples with replacement from this dataset of size 5 each."
   ]
  },
  {
   "cell_type": "code",
   "execution_count": 32,
   "metadata": {
    "id": "BPHzj703UkHw",
    "outputId": "1dc995e8-f472-40c9-e37c-5daae5c3e62c"
   },
   "outputs": [
    {
     "data": {
      "text/plain": [
       "array([[47.7, 16.9, 23.2, 19.8, 25.1],\n",
       "       [47.7, 24.1, 31.7, 19.7, 24.1],\n",
       "       [23.7, 25.4, 35.2, 25. , 25.9],\n",
       "       [18.2, 24.1, 23.2, 19.1, 23.2],\n",
       "       [18. , 35.2, 17.4, 19.8, 31.7],\n",
       "       [25.4, 35.4, 25.9, 19.8, 24.1],\n",
       "       [21.4, 20. , 16.9, 26.8, 25. ],\n",
       "       [24.3, 18. , 19.3, 25.2, 25.9],\n",
       "       [26.8, 18. , 36.8, 19.3, 23.7],\n",
       "       [21.4, 19.7, 16.5, 17.3, 20.1],\n",
       "       [25.1, 24. , 37.6, 17.2, 28.6],\n",
       "       [17.2, 37.6, 41.7, 19.7, 26.8],\n",
       "       [20.1, 31.7, 18. , 16.9, 18.2],\n",
       "       [17. , 19.1, 25.2, 21.4, 17.4],\n",
       "       [24. , 35.4, 25.9, 20.4, 31.4],\n",
       "       [24.1, 19.3, 25.5, 19.1, 18. ],\n",
       "       [25.4, 16.8, 17. , 17.5, 35.4],\n",
       "       [17.2, 19.7, 28.6, 19.7, 24. ],\n",
       "       [24. , 16.9, 16.8, 38.5, 18. ],\n",
       "       [17.4, 25.1, 17.2, 31.7, 16.5],\n",
       "       [16.5, 25.2, 17.3, 17.4, 25.1],\n",
       "       [16.8, 31.7, 18. , 31.7, 25.5],\n",
       "       [19.3, 38.5, 18. , 20.1, 31.4],\n",
       "       [31.7, 25.2, 20.4, 29.1, 24. ],\n",
       "       [19.1, 19.8, 19.1, 23.7, 38.5],\n",
       "       [17.2, 25. , 17. , 25.2, 25.5],\n",
       "       [18.2, 35.4, 17. , 24. , 28.6],\n",
       "       [23.2, 18.2, 24. , 21.4, 17. ],\n",
       "       [17.2, 21.4, 20.1, 16.9, 35.4],\n",
       "       [25.2, 20.4, 25.1, 20.4, 24.3],\n",
       "       [22.9, 26.8, 25.2, 21.4, 17.2],\n",
       "       [21.4, 35.4, 29.1, 17.2, 17.5],\n",
       "       [28.6, 17.3, 41.7, 25.1, 21.4],\n",
       "       [21.4, 37.6, 35.4, 17.5, 24. ],\n",
       "       [18. , 29.1, 17.2, 36.8, 29.1],\n",
       "       [21.4, 25.2, 47.7, 35.2, 31.7],\n",
       "       [25.2, 19.8, 31.7, 20. , 19.1],\n",
       "       [24.3, 19.1, 16.8, 25.2, 20. ],\n",
       "       [35.4, 17.3, 20.1, 19.1, 25.1],\n",
       "       [18.2, 41.7, 16.9, 19.1, 19.7],\n",
       "       [38.5, 41.7, 18. , 25.2, 25.5],\n",
       "       [25.9, 19.3, 23.2, 47.7, 25.1],\n",
       "       [17.3, 31.7, 21.4, 16.9, 20.1],\n",
       "       [24. , 20. , 24.3, 36.8, 19.1],\n",
       "       [16.8, 35.4, 18. , 20. , 16.9],\n",
       "       [24.3, 22.9, 19.3, 17.2, 17.2],\n",
       "       [36.8, 25.9, 22.9, 24.3, 18. ],\n",
       "       [16.5, 16.8, 25.2, 29.1, 24. ],\n",
       "       [25.2, 17. , 38.5, 17.2, 25.4],\n",
       "       [24.1, 17.2, 36.8, 25. , 21.4],\n",
       "       [47.7, 17.5, 17.4, 20.4, 19.1],\n",
       "       [35.4, 37.6, 35.2, 17.5, 17.4],\n",
       "       [20.1, 16.9, 16.5, 24.1, 20.1],\n",
       "       [26.8, 18. , 23.7, 24.3, 17. ],\n",
       "       [21.6, 21.6, 17.2, 21.6, 28.6],\n",
       "       [21.6, 25.1, 19.1, 41.7, 25.9],\n",
       "       [16.9, 19.1, 47.7, 20.1, 23.2],\n",
       "       [25.2, 24. , 19.1, 17. , 31.4],\n",
       "       [25.1, 25. , 25.9, 35.2, 24. ],\n",
       "       [35.2, 41.7, 25.9, 28.6, 22.9],\n",
       "       [22.9, 25.2, 29.1, 20.1, 18. ],\n",
       "       [24. , 26.8, 35.4, 25.2, 25.9],\n",
       "       [25.4, 20.1, 25.1, 19.1, 19.8],\n",
       "       [24. , 38.5, 29.1, 24.3, 22.9],\n",
       "       [35.2, 24. , 31.7, 17. , 36.8],\n",
       "       [20.1, 19.3, 18. , 36.8, 24. ],\n",
       "       [16.5, 35.2, 17.5, 18. , 19.7],\n",
       "       [26.8, 16.9, 19.1, 35.4, 25.9],\n",
       "       [21.6, 17.2, 18. , 25.4, 25.4],\n",
       "       [25.9, 19.3, 19.8, 29.1, 24. ],\n",
       "       [21.4, 37.6, 25. , 19.1, 47.7],\n",
       "       [23.7, 24. , 25.9, 24.1, 23.2],\n",
       "       [25. , 37.6, 19.1, 17. , 35.2],\n",
       "       [35.2, 19.3, 25.9, 19.8, 31.4],\n",
       "       [20.1, 18.2, 17.4, 38.5, 25.1],\n",
       "       [19.1, 17.3, 29.1, 16.5, 24. ],\n",
       "       [20. , 19.7, 31.4, 22.9, 41.7],\n",
       "       [17.5, 21.6, 25.9, 36.8, 19.8],\n",
       "       [18. , 19.7, 25.2, 21.6, 17.2],\n",
       "       [25.4, 25.9, 20. , 28.6, 24. ],\n",
       "       [17.2, 17.3, 19.7, 24. , 19.8],\n",
       "       [16.9, 25.4, 35.4, 17.2, 24. ],\n",
       "       [26.8, 16.9, 37.6, 23.2, 20. ],\n",
       "       [17.2, 17.2, 16.9, 18.2, 16.8],\n",
       "       [20. , 16.5, 21.6, 16.5, 24.3],\n",
       "       [19.3, 24. , 35.4, 19.8, 21.6],\n",
       "       [25.9, 41.7, 20.1, 31.7, 20.1],\n",
       "       [24. , 24. , 16.9, 17.2, 37.6],\n",
       "       [35.2, 21.4, 17. , 20. , 29.1],\n",
       "       [37.6, 18.2, 31.7, 19.3, 23.7],\n",
       "       [29.1, 16.8, 31.7, 17. , 37.6],\n",
       "       [24.3, 24.1, 24. , 28.6, 19.8],\n",
       "       [25.1, 28.6, 19.8, 25.4, 28.6],\n",
       "       [37.6, 20.4, 24.1, 19.3, 26.8],\n",
       "       [24.3, 25. , 18. , 47.7, 16.8],\n",
       "       [18. , 16.9, 18. , 28.6, 19.8],\n",
       "       [26.8, 19.1, 17.2, 24.1, 25.1],\n",
       "       [24. , 20. , 37.6, 41.7, 16.9],\n",
       "       [28.6, 22.9, 31.7, 19.1, 21.6],\n",
       "       [19.8, 24.3, 19.3, 19.8, 17.2],\n",
       "       [24.3, 37.6, 25.5, 17.5, 18. ]])"
      ]
     },
     "execution_count": 32,
     "metadata": {},
     "output_type": "execute_result"
    }
   ],
   "source": [
    "import random\n",
    "rs=[]\n",
    "for i in range(0,101):\n",
    "    rs.append(random.choices(df['BMI'],k=5))\n",
    "rs=np.array(rs)\n",
    "rs"
   ]
  },
  {
   "cell_type": "markdown",
   "metadata": {},
   "source": [
    "Create a sampling distribution of the mean age of customers. "
   ]
  },
  {
   "cell_type": "code",
   "execution_count": 33,
   "metadata": {
    "id": "6UMflb3kUkHx",
    "outputId": "09d90575-f036-4f91-e5b8-a6e772455271"
   },
   "outputs": [
    {
     "name": "stdout",
     "output_type": "stream",
     "text": [
      "[26.54 29.46 27.04 21.56 24.42 26.12 22.02 22.54 24.92 19.   26.5  28.6\n",
      " 20.98 20.02 27.42 21.2  22.42 21.84 22.84 21.58 20.3  24.74 25.46 26.08\n",
      " 24.04 21.98 24.64 20.76 22.2  23.08 22.7  24.12 26.82 27.18 26.04 32.24\n",
      " 23.16 21.08 23.4  23.12 29.78 28.24 21.48 24.84 21.42 20.18 25.58 22.32\n",
      " 24.66 24.9  24.42 28.62 19.54 21.96 22.12 26.68 25.4  23.34 27.04 30.86\n",
      " 23.06 27.46 21.9  27.76 28.94 23.64 21.38 24.82 21.52 23.62 30.16 24.18\n",
      " 26.78 26.32 23.86 21.2  27.14 24.32 20.34 24.78 19.6  23.78 24.9  17.26\n",
      " 19.78 24.02 27.9  23.94 24.54 26.1  26.44 24.16 25.5  25.64 26.36 20.26\n",
      " 22.46 28.04 24.78 20.08 24.58]\n"
     ]
    },
    {
     "data": {
      "text/plain": [
       "<AxesSubplot:ylabel='Density'>"
      ]
     },
     "execution_count": 33,
     "metadata": {},
     "output_type": "execute_result"
    },
    {
     "data": {
      "image/png": "[encoded data removed]",
      "text/plain": [
       "<Figure size 432x288 with 1 Axes>"
      ]
     },
     "metadata": {
      "needs_background": "light"
     },
     "output_type": "display_data"
    }
   ],
   "source": [
    "x_bar = rs.mean(axis=1)\n",
    "print(x_bar)\n",
    "sns.distplot(x_bar)\n"
   ]
  },
  {
   "cell_type": "code",
   "execution_count": 30,
   "metadata": {
    "id": "9mf4zdPLUkHx",
    "outputId": "840bb61d-2c91-430f-ce3a-4ff993fc6e4c"
   },
   "outputs": [
    {
     "name": "stdout",
     "output_type": "stream",
     "text": [
      "men of population  24.422\n",
      "std deviation of population  7.312\n"
     ]
    }
   ],
   "source": [
    "mean=np.mean(df['BMI'])\n",
    "std=np.std(df['BMI'])\n",
    "print(\"mean of population \",round(mean,3))\n",
    "print(\"std deviation of population \",round(std,3))"
   ]
  },
  {
   "cell_type": "markdown",
   "metadata": {},
   "source": [
    "Compare with other sampling distributions of sample size 10, 15, 20, 25, 30. State your observations. "
   ]
  },
  {
   "cell_type": "code",
   "execution_count": 34,
   "metadata": {
    "id": "VINBNhIZUkHx",
    "outputId": "8521651f-9c63-49e7-fdc9-3410b04e0ffe"
   },
   "outputs": [
    {
     "name": "stdout",
     "output_type": "stream",
     "text": [
      "[23.16 27.38 20.06 25.89 26.82 24.78 29.21 20.79 26.45 26.94 23.   23.58\n",
      " 23.36 25.52 20.47 24.   22.34 26.13 22.17 23.44 27.6  22.2  27.15 29.4\n",
      " 23.55 24.92 22.89 28.54 29.99 21.68 25.65 25.95 24.4  23.16 29.05 25.67\n",
      " 23.07 25.29 22.98 23.23 24.66 24.39 22.87 23.05 26.33 25.45 23.82 23.48\n",
      " 23.41 30.51 22.64 21.65 25.89 29.33 27.88 27.02 27.43 21.82 26.79 22.11\n",
      " 28.61 26.12 31.47 22.72 23.3  24.86 20.61 25.65 24.76 25.55 25.37 21.31\n",
      " 26.24 23.95 21.66 27.4  21.1  25.95 27.68 22.57 27.69 22.98 24.26 24.91\n",
      " 20.56 22.08 24.65 27.31 22.52 24.39 27.09 25.5  28.72 24.79 23.43 25.68\n",
      " 23.46 24.58 26.33 23.28 27.2 ]\n"
     ]
    },
    {
     "data": {
      "text/plain": [
       "<AxesSubplot:ylabel='Density'>"
      ]
     },
     "execution_count": 34,
     "metadata": {},
     "output_type": "execute_result"
    },
    {
     "data": {
      "image/png": "[encoded data removed]",
      "text/plain": [
       "<Figure size 432x288 with 1 Axes>"
      ]
     },
     "metadata": {
      "needs_background": "light"
     },
     "output_type": "display_data"
    }
   ],
   "source": [
    "#please refer to above o/p where we have created 100 samples each of size 5.\n",
    "#Now we plot histogram for different sample sizes to Compare with other sampling distributions of sample size 10, 15, 20, 25, 30.\n",
    "#sample-size=10\n",
    "import random\n",
    "rs=[]\n",
    "for i in range(0,101):\n",
    "    rs.append(random.choices(df['BMI'],k=10))\n",
    "rs=np.array(rs)\n",
    "\n",
    "x_bar = rs.mean(axis=1)\n",
    "print(x_bar)\n",
    "sns.distplot(x_bar)\n"
   ]
  },
  {
   "cell_type": "code",
   "execution_count": 32,
   "metadata": {
    "id": "6bC-Uk7iUkHy",
    "outputId": "ac025c97-6111-46f6-82d8-1e343087409f"
   },
   "outputs": [
    {
     "name": "stdout",
     "output_type": "stream",
     "text": [
      "[21.16666667 23.59333333 24.88       24.30666667 22.01333333 23.84666667\n",
      " 21.88       23.47333333 23.93333333 24.3        26.73333333 23.58666667\n",
      " 27.28       23.38666667 24.93333333 24.76666667 26.12666667 26.19333333\n",
      " 27.58666667 23.26666667 24.52666667 28.48       25.89333333 22.86666667\n",
      " 23.67333333 23.96666667 26.30666667 23.74       23.12666667 23.43333333\n",
      " 22.74       27.38666667 22.79333333 22.44       27.         25.56666667\n",
      " 22.76666667 25.46       21.55333333 23.59333333 26.18666667 30.46\n",
      " 21.40666667 23.38666667 27.56       25.44       26.00666667 22.44666667\n",
      " 24.94       26.06666667 24.44666667 22.77333333 25.08       24.68\n",
      " 23.32666667 25.28       23.94       23.63333333 27.05333333 23.94\n",
      " 23.10666667 19.77333333 28.47333333 24.12       28.04       24.12\n",
      " 24.34       25.86       24.50666667 24.5        22.6        21.58\n",
      " 25.16       24.91333333 26.89333333 25.18       22.1        24.9\n",
      " 24.53333333 24.84666667 24.42       24.35333333 26.34       22.89333333\n",
      " 25.31333333 27.22       24.5        25.18       23.52666667 29.14\n",
      " 21.38       23.75333333 25.52666667 23.19333333 23.94       26.18\n",
      " 24.94666667 22.10666667 21.21333333 27.38666667 21.76666667]\n"
     ]
    },
    {
     "data": {
      "text/plain": [
       "<AxesSubplot:ylabel='Density'>"
      ]
     },
     "execution_count": 32,
     "metadata": {},
     "output_type": "execute_result"
    },
    {
     "data": {
      "image/png": "[encoded data removed]",
      "text/plain": [
       "<Figure size 432x288 with 1 Axes>"
      ]
     },
     "metadata": {
      "needs_background": "light"
     },
     "output_type": "display_data"
    }
   ],
   "source": [
    "#sample-size=15\n",
    "import random\n",
    "rs=[]\n",
    "for i in range(0,101):\n",
    "    rs.append(random.choices(df['BMI'],k=15))\n",
    "rs=np.array(rs)\n",
    "\n",
    "x_bar = rs.mean(axis=1)\n",
    "print(x_bar)\n",
    "sns.distplot(x_bar)"
   ]
  },
  {
   "cell_type": "code",
   "execution_count": 35,
   "metadata": {
    "id": "TBbV--3OUkHy",
    "outputId": "e75c9e5c-3c90-4d1f-b292-80712d90c97c"
   },
   "outputs": [
    {
     "name": "stdout",
     "output_type": "stream",
     "text": [
      "[21.855 23.57  22.795 23.23  23.275 22.78  23.07  26.11  24.28  27.515\n",
      " 24.14  23.275 24.395 25.875 23.605 22.89  21.86  21.065 25.785 25.17\n",
      " 23.84  25.42  23.09  21.595 22.94  24.055 23.49  23.4   21.495 29.465\n",
      " 25.075 25.045 24.965 24.925 23.66  22.425 22.28  22.52  24.425 26.26\n",
      " 25.525 22.025 22.66  23.22  22.965 24.465 25.385 24.295 25.425 20.36\n",
      " 22.36  20.075 22.915 23.49  26.675 21.09  25.37  22.42  23.68  23.415\n",
      " 26.35  25.955 23.93  23.69  23.58  25.315 22.91  22.79  25.195 24.825\n",
      " 23.87  26.43  24.97  26.035 22.255 22.825 23.855 26.02  24.54  25.025\n",
      " 25.745 25.365 28.205 25.05  24.415 23.67  25.905 21.505 22.805 25.205\n",
      " 23.675 22.55  24.545 23.99  22.72  21.68  23.12  22.36  25.545 26.505\n",
      " 27.775]\n"
     ]
    },
    {
     "data": {
      "text/plain": [
       "<AxesSubplot:ylabel='Density'>"
      ]
     },
     "execution_count": 35,
     "metadata": {},
     "output_type": "execute_result"
    },
    {
     "data": {
      "image/png": "[encoded data removed]",
      "text/plain": [
       "<Figure size 432x288 with 1 Axes>"
      ]
     },
     "metadata": {
      "needs_background": "light"
     },
     "output_type": "display_data"
    }
   ],
   "source": [
    "#sample-size=20\n",
    "import random\n",
    "rs=[]\n",
    "for i in range(0,101):\n",
    "    rs.append(random.choices(df['BMI'],k=20))\n",
    "rs=np.array(rs)\n",
    "\n",
    "x_bar = rs.mean(axis=1)\n",
    "print(x_bar)\n",
    "sns.distplot(x_bar)"
   ]
  },
  {
   "cell_type": "code",
   "execution_count": 34,
   "metadata": {
    "id": "x8YMfN9OUkHz",
    "outputId": "8e9d3dbc-6312-45db-ff50-186a42b2337b"
   },
   "outputs": [
    {
     "name": "stdout",
     "output_type": "stream",
     "text": [
      "[24.636 23.26  26.356 23.096 24.512 23.104 27.712 22.9   25.452 23.8\n",
      " 23.452 24.344 24.384 23.824 24.672 24.764 22.676 24.572 24.94  28.272\n",
      " 25.372 22.668 26.9   26.06  23.172 22.512 23.068 25.584 24.748 25.308\n",
      " 23.632 24.156 25.48  23.704 25.552 24.92  26.064 23.188 24.    25.576\n",
      " 25.076 23.592 24.856 22.996 23.264 27.308 22.932 21.824 24.416 23.392\n",
      " 23.34  24.3   20.98  22.828 24.556 24.052 26.776 22.328 26.124 24.172\n",
      " 25.216 23.552 23.036 22.872 23.168 22.432 25.288 24.048 24.336 24.408\n",
      " 24.092 24.44  23.876 24.476 26.24  24.868 25.64  23.708 23.152 26.668\n",
      " 23.112 22.064 20.956 25.34  21.792 22.84  23.652 22.336 24.352 24.072\n",
      " 22.848 26.22  23.24  26.524 26.264 22.332 24.384 23.52  23.336 24.892\n",
      " 24.468]\n"
     ]
    },
    {
     "data": {
      "text/plain": [
       "<AxesSubplot:ylabel='Density'>"
      ]
     },
     "execution_count": 34,
     "metadata": {},
     "output_type": "execute_result"
    },
    {
     "data": {
      "image/png": "[encoded data removed]",
      "text/plain": [
       "<Figure size 432x288 with 1 Axes>"
      ]
     },
     "metadata": {
      "needs_background": "light"
     },
     "output_type": "display_data"
    }
   ],
   "source": [
    "#sample-size=25\n",
    "import random\n",
    "rs=[]\n",
    "for i in range(0,101):\n",
    "    rs.append(random.choices(df['BMI'],k=25))\n",
    "rs=np.array(rs)\n",
    "\n",
    "x_bar = rs.mean(axis=1)\n",
    "print(x_bar)\n",
    "sns.distplot(x_bar)"
   ]
  },
  {
   "cell_type": "code",
   "execution_count": 36,
   "metadata": {
    "id": "ESsqWC_hUkHz",
    "outputId": "4ead74c4-4c85-476b-e185-feab1dfd223c"
   },
   "outputs": [
    {
     "name": "stdout",
     "output_type": "stream",
     "text": [
      "[21.73333333 24.26       25.84666667 26.53666667 26.19333333 26.38\n",
      " 24.51       22.97666667 23.36666667 22.84       25.05666667 24.75\n",
      " 26.88       22.86666667 23.57       24.07666667 25.43666667 24.26666667\n",
      " 24.17333333 23.48333333 25.35       23.67       27.23666667 23.30666667\n",
      " 24.07       23.65       24.24       25.03       23.72       22.62\n",
      " 26.00666667 24.20666667 23.54666667 23.73333333 24.54666667 24.65\n",
      " 24.12333333 23.91666667 25.02666667 27.21333333 23.66       24.62\n",
      " 24.73333333 25.00333333 23.89666667 22.47666667 21.90666667 24.05\n",
      " 22.45666667 24.63666667 25.68       22.14333333 23.66333333 23.27666667\n",
      " 29.26333333 24.63       23.55666667 21.18333333 24.98666667 24.44333333\n",
      " 24.13333333 24.23333333 22.27       26.91333333 25.05       25.08333333\n",
      " 24.64666667 22.40333333 24.96333333 24.50333333 24.7        22.42666667\n",
      " 24.98666667 24.93       23.34       21.46333333 26.89       25.20333333\n",
      " 25.16       26.85       24.94333333 23.94333333 24.04333333 24.08\n",
      " 21.62333333 24.28666667 24.27333333 22.18       26.29       23.37333333\n",
      " 24.84666667 25.93333333 23.86       23.17666667 23.46666667 23.44333333\n",
      " 25.14333333 23.05333333 26.76666667 24.89666667 24.34333333]\n"
     ]
    },
    {
     "data": {
      "text/plain": [
       "<AxesSubplot:ylabel='Density'>"
      ]
     },
     "execution_count": 36,
     "metadata": {},
     "output_type": "execute_result"
    },
    {
     "data": {
      "image/png": "[encoded data removed]",
      "text/plain": [
       "<Figure size 432x288 with 1 Axes>"
      ]
     },
     "metadata": {
      "needs_background": "light"
     },
     "output_type": "display_data"
    }
   ],
   "source": [
    "#sample-size=30\n",
    "import random\n",
    "rs=[]\n",
    "for i in range(0,101):\n",
    "    rs.append(random.choices(df['BMI'],k=30))\n",
    "rs=np.array(rs)\n",
    "\n",
    "x_bar = rs.mean(axis=1)\n",
    "print(x_bar)\n",
    "sns.distplot(x_bar)"
   ]
  },
  {
   "cell_type": "markdown",
   "metadata": {},
   "source": [
    "Does it corroborate the Central Limit Theorem?"
   ]
  },
  {
   "cell_type": "code",
   "execution_count": 36,
   "metadata": {
    "id": "hYwlqpTSVLms"
   },
   "outputs": [],
   "source": [
    "# After observing the distribution plots for different sample-sizes, we can say that as the sample-size increases,\n",
    "# the sampling distribution of sample means will approach normal distribution and it corroborates the Central Limit Theorem."
   ]
  },
  {
   "cell_type": "markdown",
   "metadata": {
    "id": "OGrKGR1BUkH0"
   },
   "source": [
    "# Q14. Treat this dataset as a binomial distribution where p is the probability that a young adult has a BMI above 25.0. "
   ]
  },
  {
   "cell_type": "code",
   "execution_count": 38,
   "metadata": {
    "id": "04Rck6X5UkH0",
    "outputId": "bee56622-9bd8-4da4-9740-0d7adc91cff4"
   },
   "outputs": [
    {
     "name": "stdout",
     "output_type": "stream",
     "text": [
      "probability that a young adult has a BMI above 25.0 is  0.468\n"
     ]
    }
   ],
   "source": [
    "mean=np.mean(df['BMI'])\n",
    "std=np.std(df['BMI'])\n",
    "z=(25-mean)/std\n",
    "p=stats.norm.sf(z)\n",
    "print(\"probability that a young adult has a BMI above 25.0 is \",round(p,3))"
   ]
  },
  {
   "cell_type": "markdown",
   "metadata": {},
   "source": [
    " What is the probability that out of a random sample of 10 young adults exactly 6 are having BMI greater than 25.0?"
   ]
  },
  {
   "cell_type": "code",
   "execution_count": 39,
   "metadata": {
    "id": "1wxmE54bUkH0",
    "outputId": "b439475c-7786-4195-ad54-7a42aa2df61e"
   },
   "outputs": [
    {
     "name": "stdout",
     "output_type": "stream",
     "text": [
      "Required probability is  0.177\n"
     ]
    }
   ],
   "source": [
    "prob=stats.binom.pmf(k=6,n=10,p=0.468)\n",
    "print(\"Required probability is \",round(prob,3))"
   ]
  },
  {
   "cell_type": "markdown",
   "metadata": {
    "id": "ALEyRqyxUkH1"
   },
   "source": [
    "# Q15. A study claims that 40% of all young adults have BMI greater than 25.0. \n",
    "# Using the Normal approximation of a Binomial distribution, find the probability that in a random sample of 100 young adults  exactly 50 of them will have will have a BMI is greater than 25.0."
   ]
  },
  {
   "cell_type": "code",
   "execution_count": 41,
   "metadata": {
    "id": "xh-eqOoaUkH1",
    "outputId": "6c980605-e2bf-426b-a87a-149378a48095"
   },
   "outputs": [
    {
     "name": "stdout",
     "output_type": "stream",
     "text": [
      "Required probability is  0.01\n"
     ]
    }
   ],
   "source": [
    "p=0.4\n",
    "n=100\n",
    "k=50\n",
    "prob=stats.binom.pmf(k=50,n=100,p=0.4)\n",
    "print(\"Required probability is \",round(prob,3))"
   ]
  },
  {
   "cell_type": "markdown",
   "metadata": {
    "id": "brPGxAEGUkH2"
   },
   "source": [
    "# Q16. Compute a 95% Confidence Interval for the true BMI of the population of young adults using appropriate distribution.\n",
    "# ( State reasons as to why did you use a z or t distribution)"
   ]
  },
  {
   "cell_type": "code",
   "execution_count": 43,
   "metadata": {
    "id": "wxOgxzlyUkH2",
    "outputId": "cd46b5cf-5b9b-46fb-ff3f-485aeef89f72"
   },
   "outputs": [
    {
     "data": {
      "text/plain": [
       "50"
      ]
     },
     "execution_count": 43,
     "metadata": {},
     "output_type": "execute_result"
    }
   ],
   "source": [
    "len(df['BMI'])"
   ]
  },
  {
   "cell_type": "code",
   "execution_count": 44,
   "metadata": {
    "id": "9Nguy0wEUkH2",
    "outputId": "011591d7-ae8e-4812-a0e8-303880314b65"
   },
   "outputs": [
    {
     "name": "stdout",
     "output_type": "stream",
     "text": [
      "Confidence interval is : [22.4  26.45]\n"
     ]
    }
   ],
   "source": [
    "std=np.std(df['BMI'])\n",
    "n=len(df['BMI'])\n",
    "mean=np.mean(df['BMI'])\n",
    "conf_interval=stats.norm.interval(0.95,loc=mean,scale=std/np.sqrt(n))\n",
    "print(\"Confidence interval is :\",np.round(conf_interval,2))"
   ]
  },
  {
   "cell_type": "code",
   "execution_count": 45,
   "metadata": {
    "id": "ZFedHpEMUkH2"
   },
   "outputs": [],
   "source": [
    "# Since the length of data is greater than 30 and std deviation  is provided we have used z distrubution"
   ]
  },
  {
   "cell_type": "markdown",
   "metadata": {
    "id": "kYcUywiWUkH3"
   },
   "source": [
    "# Q17. A data scientist wants to estimate with 95% confidence the proportion of young adults having BMI greater than 25.0. \n",
    "# A recent study showed that 40% of all young adults have BMI greater than 25.0. The data scientist wants to be accurate within 2% of the true proportion. Find the minimum sample size necessary."
   ]
  },
  {
   "cell_type": "code",
   "execution_count": 47,
   "metadata": {
    "id": "a2tPX7RRUkH3",
    "outputId": "84c2a05a-15f6-4876-f5c5-4dc428fc105f"
   },
   "outputs": [
    {
     "name": "stdout",
     "output_type": "stream",
     "text": [
      "No. of sample size to be considered are : 37\n"
     ]
    }
   ],
   "source": [
    "std = df['BMI'].std()\n",
    "ME = 2\n",
    "alpha_by_2 = (1-0.95)\n",
    "z_alpha_by_2=np.abs(round(stats.norm.isf(q=alpha_by_2),2))\n",
    "z_square=(z_alpha_by_2)**2\n",
    "std_square=std**2\n",
    "sampleSize=(z_square*std_square)/(ME**2)\n",
    "print(\"No. of sample size to be considered are :\",round(sampleSize))"
   ]
  },
  {
   "cell_type": "code",
   "execution_count": 48,
   "metadata": {
    "id": "5w12trAjUkH3"
   },
   "outputs": [],
   "source": [
    "# The minimum sample size for 2% would be 37"
   ]
  },
  {
   "cell_type": "markdown",
   "metadata": {
    "id": "OYlih3aSUkH4"
   },
   "source": [
    "# Q18. The same data scientist wants to estimate the true proportion of young adults having BMI greater than 25.0. \n",
    "# She wants to be 90% confident and accurate within 5% of true proportion. Find the minimum sample size necessary."
   ]
  },
  {
   "cell_type": "code",
   "execution_count": 50,
   "metadata": {
    "id": "hn765QGSUkH4",
    "outputId": "3e0e72f6-031a-432e-9cef-464180262c9f"
   },
   "outputs": [
    {
     "name": "stdout",
     "output_type": "stream",
     "text": [
      "No. of sample size to be considered are : 4\n"
     ]
    }
   ],
   "source": [
    "std = df['BMI'].std()\n",
    "ME = 5\n",
    "alpha_by_2 = (1-0.90)\n",
    "z_alpha_by_2=np.abs(round(stats.norm.isf(q=alpha_by_2),2))\n",
    "z_square=(z_alpha_by_2)**2\n",
    "std_square=std**2\n",
    "sampleSize=(z_square*std_square)/(ME**2)\n",
    "print(\"No. of sample size to be considered are :\",round(sampleSize))"
   ]
  },
  {
   "cell_type": "markdown",
   "metadata": {
    "id": "qc5voDxuUkH5"
   },
   "source": [
    "# Q19. A researcher claims that currently 55% of all young adults have BMI greater than 25 . Test his claim with an alpha =0.05 if out of a random sample of 30 CEOs only 20 are having BMI above 25"
   ]
  },
  {
   "cell_type": "code",
   "execution_count": 52,
   "metadata": {
    "id": "jKPojO1eUkH5",
    "outputId": "7b5e41c4-fd5f-4747-fe9a-5abd0d314964"
   },
   "outputs": [
    {
     "name": "stdout",
     "output_type": "stream",
     "text": [
      "16.5\n",
      "13.499999999999998\n"
     ]
    }
   ],
   "source": [
    "# H0: p<=0.55\n",
    "# H1: p>0.55\n",
    "alpha=0.05\n",
    "n=30\n",
    "p=0.55\n",
    "print(n*p)\n",
    "print(n*(1-p))"
   ]
  },
  {
   "cell_type": "code",
   "execution_count": 53,
   "metadata": {},
   "outputs": [],
   "source": [
    "#as np and n(1-p) both are >10,we can use the normal model to find the P-value."
   ]
  },
  {
   "cell_type": "code",
   "execution_count": 54,
   "metadata": {},
   "outputs": [
    {
     "name": "stdout",
     "output_type": "stream",
     "text": [
      "critical value for right-tailed test is : 1.64\n"
     ]
    }
   ],
   "source": [
    "#finding critical value\n",
    "z_val=np.abs(round(stats.norm.isf(q=0.05),2))\n",
    "print(\"critical value for right-tailed test is :\",z_val)"
   ]
  },
  {
   "cell_type": "code",
   "execution_count": 55,
   "metadata": {},
   "outputs": [],
   "source": [
    "#if z-score>1.64,we reject null hypothesis."
   ]
  },
  {
   "cell_type": "code",
   "execution_count": 56,
   "metadata": {},
   "outputs": [
    {
     "name": "stdout",
     "output_type": "stream",
     "text": [
      "z_score is  1.284457725980753\n"
     ]
    }
   ],
   "source": [
    "p1=20/30\n",
    "val=(p*(1-p))/n\n",
    "z_score=(p1-p)/np.sqrt(val)\n",
    "print(\"z_score is \",z_score)"
   ]
  },
  {
   "cell_type": "code",
   "execution_count": 57,
   "metadata": {},
   "outputs": [
    {
     "name": "stdout",
     "output_type": "stream",
     "text": [
      "p-val is  0.09949092299862139\n"
     ]
    }
   ],
   "source": [
    "p_val=stats.norm.sf(z_score)\n",
    "print(\"p-val is \",p_val)"
   ]
  },
  {
   "cell_type": "code",
   "execution_count": 58,
   "metadata": {},
   "outputs": [],
   "source": [
    "#As z-score<1.64 and also p-val>0.05,we fail to reject null hypothesis.\n",
    "#Hence,the claim that currently 55% of all young adults have BMI greater than 25 can be rejected."
   ]
  },
  {
   "cell_type": "markdown",
   "metadata": {},
   "source": [
    "# Q 20. A data scientist is researching the hypothesis that there is no difference between BMI of public vs private schools students. So he collects data from the two schools and finds that the proportion of public school students whose BMI is above 25.0 is 31.8 % vs Private school students is 38.7 %. Suppose the data scientist got these values after interviewing 500 students of each school."
   ]
  },
  {
   "cell_type": "markdown",
   "metadata": {},
   "source": [
    "a. What hypothesis would he use to compare the proportions of students having BMI greater than 25.0 among both the schools."
   ]
  },
  {
   "cell_type": "code",
   "execution_count": 60,
   "metadata": {},
   "outputs": [],
   "source": [
    "#let p1 and p2 be the proportions of public school students and private school students whose BMI is above 25.0 respectively.\n",
    "\n",
    "#H0: p1=p2\n",
    "#H1: p1!=p2"
   ]
  },
  {
   "cell_type": "markdown",
   "metadata": {},
   "source": [
    " b. What are critical values to be used?"
   ]
  },
  {
   "cell_type": "code",
   "execution_count": 61,
   "metadata": {},
   "outputs": [
    {
     "name": "stdout",
     "output_type": "stream",
     "text": [
      "159.0 340.99999999999994 193.5 306.5\n"
     ]
    }
   ],
   "source": [
    "n1=500\n",
    "p1=0.318\n",
    "n2=500\n",
    "p2=0.387\n",
    "print(n1*p1 , n1*(1-p1), n2*p2,n2*(1-p2))"
   ]
  },
  {
   "cell_type": "code",
   "execution_count": 62,
   "metadata": {},
   "outputs": [],
   "source": [
    "#As np and n(1-p)>10,we can use the normal model to find the P-value."
   ]
  },
  {
   "cell_type": "markdown",
   "metadata": {},
   "source": [
    "c. What statistical test will be used to compare these proportions ?"
   ]
  },
  {
   "cell_type": "code",
   "execution_count": 63,
   "metadata": {},
   "outputs": [],
   "source": [
    "#As we are considering 2 independent populations(public school and private school) and we are comparing there proportions,\n",
    "#so we will use \"Two-proportion z-test\"."
   ]
  },
  {
   "cell_type": "code",
   "execution_count": 64,
   "metadata": {},
   "outputs": [
    {
     "name": "stdout",
     "output_type": "stream",
     "text": [
      "The p-value is 0.9344822763763402\n"
     ]
    }
   ],
   "source": [
    "#d. Complete the test and obtain the P-value.\n",
    "from statsmodels.stats.proportion import proportions_ztest\n",
    "\n",
    "\n",
    "defect_count = np.array([0.318,0.387])\n",
    "\n",
    "# set the sample sizes\n",
    "nobs = np.array([500, 500])\n",
    "\n",
    "# find the p-value\n",
    "test_stat, p_value = proportions_ztest(defect_count, nobs)\n",
    "print('The p-value is ' + str(p_value))"
   ]
  },
  {
   "cell_type": "markdown",
   "metadata": {},
   "source": [
    "e. Summarize this conclusion based on the P-value."
   ]
  },
  {
   "cell_type": "code",
   "execution_count": 65,
   "metadata": {},
   "outputs": [],
   "source": [
    "\n",
    "#As p-value>0.05,we fail to reject null hypothesis.\n",
    "#Hence,there is not enough statistical evidence to say that there is a significant difference between BMI of public vs private schools students"
   ]
  }
 ],
 "metadata": {
  "colab": {
   "collapsed_sections": [
    "4Lre4_PDqAXu"
   ],
   "provenance": []
  },
  "kernelspec": {
   "display_name": "Python 3 (ipykernel)",
   "language": "python",
   "name": "python3"
  },
  "language_info": {
   "codemirror_mode": {
    "name": "ipython",
    "version": 3
   },
   "file_extension": ".py",
   "mimetype": "text/x-python",
   "name": "python",
   "nbconvert_exporter": "python",
   "pygments_lexer": "ipython3",
   "version": "3.9.12"
  }
 },
 "nbformat": 4,
 "nbformat_minor": 1
}
